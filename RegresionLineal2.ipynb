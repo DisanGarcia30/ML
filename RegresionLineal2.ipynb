{
 "cells": [
  {
   "cell_type": "code",
   "execution_count": 1,
   "id": "f515a32e-6590-4a4d-ac1f-cc2e0e9348f7",
   "metadata": {},
   "outputs": [],
   "source": [
    "import numpy as np\n",
    "from sklearn.linear_model import LinearRegression"
   ]
  },
  {
   "cell_type": "code",
   "execution_count": 11,
   "id": "a23c331d-f92b-4e46-a5f9-32e65022edc8",
   "metadata": {},
   "outputs": [
    {
     "name": "stdout",
     "output_type": "stream",
     "text": [
      "el dato de altura siguiente es  [[-134.7007874]]\n"
     ]
    }
   ],
   "source": [
    "x = np.array([[173],[171],[189],[181],[179]])\n",
    "y = np.array([[81],[72],[96],[94],[89]])\n",
    "reg = LinearRegression().fit(x,y)\n",
    "prediction = reg.predict([[5]])\n",
    "print('el dato de altura siguiente es ', prediction)"
   ]
  },
  {
   "cell_type": "code",
   "execution_count": null,
   "id": "889a99d9-ac70-4ed4-8b3a-e923c7546ca2",
   "metadata": {},
   "outputs": [],
   "source": []
  }
 ],
 "metadata": {
  "kernelspec": {
   "display_name": "Python 3 (ipykernel)",
   "language": "python",
   "name": "python3"
  },
  "language_info": {
   "codemirror_mode": {
    "name": "ipython",
    "version": 3
   },
   "file_extension": ".py",
   "mimetype": "text/x-python",
   "name": "python",
   "nbconvert_exporter": "python",
   "pygments_lexer": "ipython3",
   "version": "3.12.4"
  }
 },
 "nbformat": 4,
 "nbformat_minor": 5
}
